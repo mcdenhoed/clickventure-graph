{
 "cells": [
  {
   "cell_type": "code",
   "execution_count": 4,
   "metadata": {
    "collapsed": false
   },
   "outputs": [],
   "source": [
    "import requests, graphviz, textwrap\n",
    "from lxml import html\n",
    "\n",
    "nodelayout = \"\""
   ]
  },
  {
   "cell_type": "code",
   "execution_count": 5,
   "metadata": {
    "collapsed": false
   },
   "outputs": [],
   "source": [
    "g = graphviz.Graph()"
   ]
  },
  {
   "cell_type": "code",
   "execution_count": 73,
   "metadata": {
    "collapsed": false
   },
   "outputs": [],
   "source": [
    "#response = requests.get(\"http://www.clickhole.com/clickventure/would-you-survive-bear-attack-1230\")\n",
    "#response = requests.get(\"http://www.clickhole.com/clickventure/can-you-survive-seeing-grease-broadway-4331#2,\")\n",
    "response = requests.get(\"http://www.clickhole.com/clickventure/mysterious-shadows-skullshadow-island-1880#2,\")"
   ]
  },
  {
   "cell_type": "code",
   "execution_count": 74,
   "metadata": {
    "collapsed": false
   },
   "outputs": [],
   "source": [
    "tree = html.fromstring(response.content)"
   ]
  },
  {
   "cell_type": "code",
   "execution_count": 80,
   "metadata": {
    "collapsed": false
   },
   "outputs": [],
   "source": [
    "data_dict = dict()\n",
    "for a in tree.xpath('//div[contains(@class, \"clickventure-node \")]'):\n",
    "    #print list(a.classes)\n",
    "    text = a.xpath('.//p')\n",
    "    #print dir(a.xpath('.//img')[0]), a.xpath('.//img')[0].items()[0][1]\n",
    "    #print [t.text for t in text]\n",
    "    allparagraphtext = '\\n'.join(t.text.encode('utf-8', 'ignore') for t in text if t.text is not None)\n",
    "    #print allparagraphtext\n",
    "    thisid = a.xpath('.//@data-node-id')[0]\n",
    "    thisdict = {'text': allparagraphtext, 'links' : list()}\n",
    "    if 'clickventure-node-start' in list(a.classes):\n",
    "        thisdict['type'] = 'start'\n",
    "    elif 'clickventure-node-finish' in list(a.classes):\n",
    "        thisdict['type'] = 'finish'\n",
    "    else:\n",
    "        thisdict['type'] = 'normal'\n",
    "        \n",
    "    if len(a.xpath('.//img')):\n",
    "        thisdict['img'] = a.xpath('.//img')[0].items()[0][1]\n",
    "    else:\n",
    "        thisdict['img'] = None\n",
    "    data_dict[int(thisid)] = thisdict\n",
    "    #print int(thisid[0])\n",
    "    #print text.text\n",
    "    for b in a.xpath('.//div[contains(@class, \"clickventure-node-link \")]'):\n",
    "        linkid =  int(b.xpath('.//@data-target-node')[0])\n",
    "        linktext = b.text_content().strip()\n",
    "        data_dict[int(thisid)]['links'].append((int(linkid), linktext.encode('ascii', 'ignore')))\n",
    "        #print b.text_content().strip() + \" --> \" + str(linkid)\n",
    "    #print"
   ]
  },
  {
   "cell_type": "code",
   "execution_count": 81,
   "metadata": {
    "collapsed": false
   },
   "outputs": [],
   "source": [
    "g = graphviz.Graph()\n",
    "for k,v in data_dict.iteritems():\n",
    "    #print type(v['text'])\n",
    "    wrappedtext = '\\n'.join(textwrap.wrap(v['text'],60))\n",
    "    g.node(str(k), label=\"<p>hi</p></br>\" + wrappedtext.decode('utf-8'))\n",
    "    #print v\n",
    "for k,v in data_dict.iteritems():\n",
    "    for link in v['links']:\n",
    "        g.edge(str(k), str(link[0]), link[1])"
   ]
  },
  {
   "cell_type": "code",
   "execution_count": null,
   "metadata": {
    "collapsed": false
   },
   "outputs": [],
   "source": []
  },
  {
   "cell_type": "code",
   "execution_count": null,
   "metadata": {
    "collapsed": false
   },
   "outputs": [],
   "source": []
  }
 ],
 "metadata": {
  "kernelspec": {
   "display_name": "Python 2",
   "language": "python",
   "name": "python2"
  },
  "language_info": {
   "codemirror_mode": {
    "name": "ipython",
    "version": 2
   },
   "file_extension": ".py",
   "mimetype": "text/x-python",
   "name": "python",
   "nbconvert_exporter": "python",
   "pygments_lexer": "ipython2",
   "version": "2.7.11+"
  }
 },
 "nbformat": 4,
 "nbformat_minor": 0
}
