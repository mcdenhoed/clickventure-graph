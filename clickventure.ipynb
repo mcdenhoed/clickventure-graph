{
 "cells": [
  {
   "cell_type": "code",
   "execution_count": 1,
   "metadata": {
    "collapsed": true
   },
   "outputs": [],
   "source": [
    "import requests, graphviz, textwrap\n",
    "from lxml import html"
   ]
  },
  {
   "cell_type": "code",
   "execution_count": 2,
   "metadata": {
    "collapsed": false
   },
   "outputs": [],
   "source": [
    "#response = requests.get(\"http://www.clickhole.com/clickventure/would-you-survive-bear-attack-1230\")\n",
    "#response = requests.get(\"http://www.clickhole.com/clickventure/can-you-survive-seeing-grease-broadway-4331#2,\")\n",
    "response = requests.get(\"http://www.clickhole.com/clickventure/mysterious-shadows-skullshadow-island-1880#2,\")"
   ]
  },
  {
   "cell_type": "code",
   "execution_count": 3,
   "metadata": {
    "collapsed": false
   },
   "outputs": [],
   "source": [
    "#nodelayout = \"\"\n",
    "\n",
    "overall_style = {\n",
    "        #'label': 'A Fancy Graph',\n",
    "        'fontsize': '16',\n",
    "        'fontname' : 'Century Gothic Bold',\n",
    "        'fontcolor': '#3a3a3a',\n",
    "        'bgcolor': '#ffffff',\n",
    "        #'rankdir': 'BT',\n",
    "}\n",
    "normal_node_style = {\n",
    "        'fontname': 'Century Gothic Bold',\n",
    "        'shape': 'rectangle',\n",
    "        'fontcolor': '#3a3a3a',\n",
    "        'color': '#3a3a3a',\n",
    "        'style': 'filled',\n",
    "        'fillcolor': '#efefef',\n",
    "}\n",
    "finish_node_style = {\n",
    "        'fontname': 'Century Gothic Bold',\n",
    "        'shape': 'octagon',\n",
    "        'fontcolor': '#efefef',\n",
    "        'color': '#983a12',\n",
    "        'style': 'filled',\n",
    "        'fillcolor': '#fe621e',\n",
    "        'color' : '#888888'\n",
    "}\n",
    "start_node_style = {\n",
    "        'fontname': 'Century Gothic Bold',\n",
    "        'shape': 'rectangle',\n",
    "        'fontcolor': '#3a3a3a',\n",
    "        'color': '#983a12',\n",
    "        'style': 'filled',\n",
    "        'fillcolor': '#fe621e',\n",
    "}\n",
    "edge_style = {\n",
    "        'style': 'dashed',\n",
    "        'color': '#3a3a3a',\n",
    "        #'arrowhead': 'open',\n",
    "        #'fontname': 'Courier',\n",
    "        'fontsize': '12',\n",
    "        'fontcolor': '#3a3a3a',\n",
    "}"
   ]
  },
  {
   "cell_type": "code",
   "execution_count": 4,
   "metadata": {
    "collapsed": false
   },
   "outputs": [],
   "source": [
    "tree = html.fromstring(response.content)"
   ]
  },
  {
   "cell_type": "code",
   "execution_count": 5,
   "metadata": {
    "collapsed": false
   },
   "outputs": [],
   "source": [
    "data_dict = dict()\n",
    "for a in tree.xpath('//div[contains(@class, \"clickventure-node \")]'):\n",
    "    #print list(a.classes)\n",
    "    text = a.xpath('.//p')\n",
    "    #print dir(a.xpath('.//img')[0]), a.xpath('.//img')[0].items()[0][1]\n",
    "    #print [t.text for t in text]\n",
    "    allparagraphtext = '\\n'.join(t.text.encode('utf-8', 'ignore') for t in text if t.text is not None)\n",
    "    #print allparagraphtext\n",
    "    thisid = a.xpath('.//@data-node-id')[0]\n",
    "    thisdict = {'text': allparagraphtext, 'links' : list()}\n",
    "    if 'clickventure-node-start' in list(a.classes):\n",
    "        thisdict['type'] = 'start'\n",
    "    elif 'clickventure-node-finish' in list(a.classes):\n",
    "        thisdict['type'] = 'finish'\n",
    "    else:\n",
    "        thisdict['type'] = 'normal'\n",
    "        \n",
    "    if len(a.xpath('.//img')):\n",
    "        thisdict['img'] = a.xpath('.//img')[0].items()[0][1]\n",
    "    else:\n",
    "        thisdict['img'] = None\n",
    "    data_dict[int(thisid)] = thisdict\n",
    "    #print int(thisid[0])\n",
    "    #print text.text\n",
    "    for b in a.xpath('.//div[contains(@class, \"clickventure-node-link \")]'):\n",
    "        linkid =  int(b.xpath('.//@data-target-node')[0])\n",
    "        linktext = b.text_content().strip()\n",
    "        data_dict[int(thisid)]['links'].append((int(linkid), linktext.encode('ascii', 'ignore')))\n",
    "        #print b.text_content().strip() + \" --> \" + str(linkid)\n",
    "    #print"
   ]
  },
  {
   "cell_type": "code",
   "execution_count": 6,
   "metadata": {
    "collapsed": false
   },
   "outputs": [],
   "source": [
    "g = graphviz.Digraph()\n",
    "for k,v in data_dict.iteritems():\n",
    "    #print type(v['text'])\n",
    "    wrappedtext = '\\n'.join(textwrap.wrap(v['text'],40))\n",
    "    if(v['type'] is 'start'):\n",
    "        style = start_node_style\n",
    "    elif(v['type'] is 'finish'):\n",
    "        style = finish_node_style\n",
    "    else:\n",
    "        style = normal_node_style\n",
    "    g.node(str(k), label=wrappedtext.decode('utf-8'),_attributes=style)\n",
    "    g.graph_attr.update(overall_style)\n",
    "    #print v\n",
    "for k,v in data_dict.iteritems():\n",
    "    for link in v['links']:\n",
    "        #print link[0]\n",
    "        wrapped_text = '\\n'.join(textwrap.wrap(str(link[1]), 40))\n",
    "        #print wrapped_text\n",
    "        g.edge(str(k), str(link[0]), wrapped_text, _attributes=edge_style)"
   ]
  },
  {
   "cell_type": "code",
   "execution_count": 7,
   "metadata": {
    "collapsed": false
   },
   "outputs": [
    {
     "data": {
      "text/plain": [
       "'skull.pdf'"
      ]
     },
     "execution_count": 7,
     "metadata": {},
     "output_type": "execute_result"
    }
   ],
   "source": [
    "g.render('skull')"
   ]
  },
  {
   "cell_type": "code",
   "execution_count": null,
   "metadata": {
    "collapsed": false
   },
   "outputs": [],
   "source": []
  },
  {
   "cell_type": "code",
   "execution_count": null,
   "metadata": {
    "collapsed": true
   },
   "outputs": [],
   "source": []
  }
 ],
 "metadata": {
  "kernelspec": {
   "display_name": "Python 2",
   "language": "python",
   "name": "python2"
  },
  "language_info": {
   "codemirror_mode": {
    "name": "ipython",
    "version": 2
   },
   "file_extension": ".py",
   "mimetype": "text/x-python",
   "name": "python",
   "nbconvert_exporter": "python",
   "pygments_lexer": "ipython2",
   "version": "2.7.11+"
  }
 },
 "nbformat": 4,
 "nbformat_minor": 0
}
